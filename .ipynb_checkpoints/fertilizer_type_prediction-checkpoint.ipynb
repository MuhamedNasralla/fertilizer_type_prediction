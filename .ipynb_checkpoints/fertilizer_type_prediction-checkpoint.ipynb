{
 "cells": [
  {
   "cell_type": "code",
   "execution_count": 1,
   "id": "78a1f2c5-6bda-4bfd-8a83-954681689fe2",
   "metadata": {},
   "outputs": [],
   "source": [
    "# Import necessary libraries\n",
    "\n",
    "import pandas as pd\n",
    "import numpy as np\n",
    "import matplotlib.pyplot as plt"
   ]
  },
  {
   "cell_type": "code",
   "execution_count": 2,
   "id": "59f2bbb1-d31b-4b59-b566-59c1334eadfc",
   "metadata": {},
   "outputs": [
    {
     "data": {
      "text/html": [
       "<div>\n",
       "<style scoped>\n",
       "    .dataframe tbody tr th:only-of-type {\n",
       "        vertical-align: middle;\n",
       "    }\n",
       "\n",
       "    .dataframe tbody tr th {\n",
       "        vertical-align: top;\n",
       "    }\n",
       "\n",
       "    .dataframe thead th {\n",
       "        text-align: right;\n",
       "    }\n",
       "</style>\n",
       "<table border=\"1\" class=\"dataframe\">\n",
       "  <thead>\n",
       "    <tr style=\"text-align: right;\">\n",
       "      <th></th>\n",
       "      <th>Temparature</th>\n",
       "      <th>Humidity</th>\n",
       "      <th>Moisture</th>\n",
       "      <th>Soil Type</th>\n",
       "      <th>Crop Type</th>\n",
       "      <th>Nitrogen</th>\n",
       "      <th>Potassium</th>\n",
       "      <th>Phosphorous</th>\n",
       "      <th>Fertilizer Name</th>\n",
       "    </tr>\n",
       "  </thead>\n",
       "  <tbody>\n",
       "    <tr>\n",
       "      <th>0</th>\n",
       "      <td>26</td>\n",
       "      <td>52</td>\n",
       "      <td>38</td>\n",
       "      <td>Sandy</td>\n",
       "      <td>Maize</td>\n",
       "      <td>37</td>\n",
       "      <td>0</td>\n",
       "      <td>0</td>\n",
       "      <td>Urea</td>\n",
       "    </tr>\n",
       "    <tr>\n",
       "      <th>1</th>\n",
       "      <td>29</td>\n",
       "      <td>52</td>\n",
       "      <td>45</td>\n",
       "      <td>Loamy</td>\n",
       "      <td>Sugarcane</td>\n",
       "      <td>12</td>\n",
       "      <td>0</td>\n",
       "      <td>36</td>\n",
       "      <td>DAP</td>\n",
       "    </tr>\n",
       "    <tr>\n",
       "      <th>2</th>\n",
       "      <td>34</td>\n",
       "      <td>65</td>\n",
       "      <td>62</td>\n",
       "      <td>Black</td>\n",
       "      <td>Cotton</td>\n",
       "      <td>7</td>\n",
       "      <td>9</td>\n",
       "      <td>30</td>\n",
       "      <td>14-35-14</td>\n",
       "    </tr>\n",
       "    <tr>\n",
       "      <th>3</th>\n",
       "      <td>32</td>\n",
       "      <td>62</td>\n",
       "      <td>34</td>\n",
       "      <td>Red</td>\n",
       "      <td>Tobacco</td>\n",
       "      <td>22</td>\n",
       "      <td>0</td>\n",
       "      <td>20</td>\n",
       "      <td>28-28</td>\n",
       "    </tr>\n",
       "    <tr>\n",
       "      <th>4</th>\n",
       "      <td>28</td>\n",
       "      <td>54</td>\n",
       "      <td>46</td>\n",
       "      <td>Clayey</td>\n",
       "      <td>Paddy</td>\n",
       "      <td>35</td>\n",
       "      <td>0</td>\n",
       "      <td>0</td>\n",
       "      <td>Urea</td>\n",
       "    </tr>\n",
       "  </tbody>\n",
       "</table>\n",
       "</div>"
      ],
      "text/plain": [
       "   Temparature  Humidity   Moisture Soil Type  Crop Type  Nitrogen  Potassium  \\\n",
       "0           26         52        38     Sandy      Maize        37          0   \n",
       "1           29         52        45     Loamy  Sugarcane        12          0   \n",
       "2           34         65        62     Black     Cotton         7          9   \n",
       "3           32         62        34       Red    Tobacco        22          0   \n",
       "4           28         54        46    Clayey      Paddy        35          0   \n",
       "\n",
       "   Phosphorous Fertilizer Name  \n",
       "0            0            Urea  \n",
       "1           36             DAP  \n",
       "2           30        14-35-14  \n",
       "3           20           28-28  \n",
       "4            0            Urea  "
      ]
     },
     "execution_count": 2,
     "metadata": {},
     "output_type": "execute_result"
    }
   ],
   "source": [
    "data = pd.read_csv('fertilizer_data.csv')\n",
    "data.head()"
   ]
  },
  {
   "cell_type": "code",
   "execution_count": 3,
   "id": "20314fba-87b4-4ea4-93d4-b3a0c5ee9dd3",
   "metadata": {},
   "outputs": [
    {
     "name": "stdout",
     "output_type": "stream",
     "text": [
      "<class 'pandas.core.frame.DataFrame'>\n",
      "RangeIndex: 99 entries, 0 to 98\n",
      "Data columns (total 9 columns):\n",
      " #   Column           Non-Null Count  Dtype \n",
      "---  ------           --------------  ----- \n",
      " 0   Temparature      99 non-null     int64 \n",
      " 1   Humidity         99 non-null     int64 \n",
      " 2   Moisture         99 non-null     int64 \n",
      " 3   Soil Type        99 non-null     object\n",
      " 4   Crop Type        99 non-null     object\n",
      " 5   Nitrogen         99 non-null     int64 \n",
      " 6   Potassium        99 non-null     int64 \n",
      " 7   Phosphorous      99 non-null     int64 \n",
      " 8   Fertilizer Name  99 non-null     object\n",
      "dtypes: int64(6), object(3)\n",
      "memory usage: 7.1+ KB\n"
     ]
    }
   ],
   "source": [
    "# information about the dataset\n",
    "\n",
    "data.info()"
   ]
  },
  {
   "cell_type": "code",
   "execution_count": 4,
   "id": "8a061b56-70c8-4eff-8196-e5649cf84c6f",
   "metadata": {},
   "outputs": [
    {
     "data": {
      "text/html": [
       "<div>\n",
       "<style scoped>\n",
       "    .dataframe tbody tr th:only-of-type {\n",
       "        vertical-align: middle;\n",
       "    }\n",
       "\n",
       "    .dataframe tbody tr th {\n",
       "        vertical-align: top;\n",
       "    }\n",
       "\n",
       "    .dataframe thead th {\n",
       "        text-align: right;\n",
       "    }\n",
       "</style>\n",
       "<table border=\"1\" class=\"dataframe\">\n",
       "  <thead>\n",
       "    <tr style=\"text-align: right;\">\n",
       "      <th></th>\n",
       "      <th>Temparature</th>\n",
       "      <th>Humidity</th>\n",
       "      <th>Moisture</th>\n",
       "      <th>Nitrogen</th>\n",
       "      <th>Potassium</th>\n",
       "      <th>Phosphorous</th>\n",
       "    </tr>\n",
       "  </thead>\n",
       "  <tbody>\n",
       "    <tr>\n",
       "      <th>count</th>\n",
       "      <td>99.00</td>\n",
       "      <td>99.00</td>\n",
       "      <td>99.00</td>\n",
       "      <td>99.00</td>\n",
       "      <td>99.00</td>\n",
       "      <td>99.00</td>\n",
       "    </tr>\n",
       "    <tr>\n",
       "      <th>mean</th>\n",
       "      <td>30.28</td>\n",
       "      <td>59.15</td>\n",
       "      <td>43.18</td>\n",
       "      <td>18.91</td>\n",
       "      <td>3.38</td>\n",
       "      <td>18.61</td>\n",
       "    </tr>\n",
       "    <tr>\n",
       "      <th>std</th>\n",
       "      <td>3.50</td>\n",
       "      <td>5.84</td>\n",
       "      <td>11.27</td>\n",
       "      <td>11.60</td>\n",
       "      <td>5.81</td>\n",
       "      <td>13.48</td>\n",
       "    </tr>\n",
       "    <tr>\n",
       "      <th>min</th>\n",
       "      <td>25.00</td>\n",
       "      <td>50.00</td>\n",
       "      <td>25.00</td>\n",
       "      <td>4.00</td>\n",
       "      <td>0.00</td>\n",
       "      <td>0.00</td>\n",
       "    </tr>\n",
       "    <tr>\n",
       "      <th>25%</th>\n",
       "      <td>28.00</td>\n",
       "      <td>54.00</td>\n",
       "      <td>34.00</td>\n",
       "      <td>10.00</td>\n",
       "      <td>0.00</td>\n",
       "      <td>9.00</td>\n",
       "    </tr>\n",
       "    <tr>\n",
       "      <th>50%</th>\n",
       "      <td>30.00</td>\n",
       "      <td>60.00</td>\n",
       "      <td>41.00</td>\n",
       "      <td>13.00</td>\n",
       "      <td>0.00</td>\n",
       "      <td>19.00</td>\n",
       "    </tr>\n",
       "    <tr>\n",
       "      <th>75%</th>\n",
       "      <td>33.00</td>\n",
       "      <td>64.00</td>\n",
       "      <td>50.50</td>\n",
       "      <td>24.00</td>\n",
       "      <td>7.50</td>\n",
       "      <td>30.00</td>\n",
       "    </tr>\n",
       "    <tr>\n",
       "      <th>max</th>\n",
       "      <td>38.00</td>\n",
       "      <td>72.00</td>\n",
       "      <td>65.00</td>\n",
       "      <td>42.00</td>\n",
       "      <td>19.00</td>\n",
       "      <td>42.00</td>\n",
       "    </tr>\n",
       "  </tbody>\n",
       "</table>\n",
       "</div>"
      ],
      "text/plain": [
       "       Temparature  Humidity   Moisture  Nitrogen  Potassium  Phosphorous\n",
       "count        99.00      99.00     99.00     99.00      99.00        99.00\n",
       "mean         30.28      59.15     43.18     18.91       3.38        18.61\n",
       "std           3.50       5.84     11.27     11.60       5.81        13.48\n",
       "min          25.00      50.00     25.00      4.00       0.00         0.00\n",
       "25%          28.00      54.00     34.00     10.00       0.00         9.00\n",
       "50%          30.00      60.00     41.00     13.00       0.00        19.00\n",
       "75%          33.00      64.00     50.50     24.00       7.50        30.00\n",
       "max          38.00      72.00     65.00     42.00      19.00        42.00"
      ]
     },
     "execution_count": 4,
     "metadata": {},
     "output_type": "execute_result"
    }
   ],
   "source": [
    "# Statistic info about the dataset\n",
    "\n",
    "pd.set_option(\"display.precision\", 2)\n",
    "data.describe()"
   ]
  },
  {
   "cell_type": "code",
   "execution_count": 5,
   "id": "8579c392-19a9-4635-9aa2-8c8aa0ece7c6",
   "metadata": {},
   "outputs": [
    {
     "name": "stdout",
     "output_type": "stream",
     "text": [
      "Soil Type counts:\n",
      " Soil Type\n",
      "Loamy     21\n",
      "Sandy     20\n",
      "Clayey    20\n",
      "Black     19\n",
      "Red       19\n",
      "Name: count, dtype: int64\n",
      "\n",
      "Crop Type counts:\n",
      " Crop Type\n",
      "Sugarcane      13\n",
      "Cotton         12\n",
      "Millets        11\n",
      "Paddy          10\n",
      "Pulses         10\n",
      "Wheat           9\n",
      "Tobacco         7\n",
      "Barley          7\n",
      "Oil seeds       7\n",
      "Ground Nuts     7\n",
      "Maize           6\n",
      "Name: count, dtype: int64\n",
      "\n",
      "Fertilizer Name counts:\n",
      " Fertilizer Name\n",
      "Urea        22\n",
      "DAP         18\n",
      "28-28       17\n",
      "14-35-14    14\n",
      "20-20       14\n",
      "17-17-17     7\n",
      "10-26-26     7\n",
      "Name: count, dtype: int64\n"
     ]
    }
   ],
   "source": [
    "# Show unique values for each of the three category columns\n",
    "\n",
    "print(\"Soil Type counts:\\n\", data['Soil Type'].value_counts())\n",
    "print(\"\\nCrop Type counts:\\n\", data['Crop Type'].value_counts())\n",
    "print(\"\\nFertilizer Name counts:\\n\", data['Fertilizer Name'].value_counts())"
   ]
  },
  {
   "cell_type": "code",
   "execution_count": 6,
   "id": "3bcbd5e9-32c0-4664-b85b-ec1bddeda409",
   "metadata": {},
   "outputs": [
    {
     "name": "stdout",
     "output_type": "stream",
     "text": [
      "Soil Type  soil_type_enc\n",
      "Loamy      2                21\n",
      "Clayey     1                20\n",
      "Sandy      4                20\n",
      "Black      0                19\n",
      "Red        3                19\n",
      "Name: count, dtype: int64\n"
     ]
    }
   ],
   "source": [
    "# Covert Categorical values to int\n",
    "# Soil Type Column\n",
    "\n",
    "from sklearn.preprocessing import LabelEncoder\n",
    "le= LabelEncoder()\n",
    "data['soil_type_enc'] = le.fit_transform(data['Soil Type'])\n",
    "print(data[['Soil Type', 'soil_type_enc']].value_counts())"
   ]
  },
  {
   "cell_type": "code",
   "execution_count": 7,
   "id": "d648a5f3-6729-42c2-a3c3-e2145e37d73a",
   "metadata": {},
   "outputs": [
    {
     "name": "stdout",
     "output_type": "stream",
     "text": [
      "Crop Type    crop_type_en\n",
      "Maize        3                6\n",
      "Barley       0                7\n",
      "Ground Nuts  2                7\n",
      "Oil seeds    5                7\n",
      "Tobacco      9                7\n",
      "Wheat        10               9\n",
      "Paddy        6               10\n",
      "Pulses       7               10\n",
      "Millets      4               11\n",
      "Cotton       1               12\n",
      "Sugarcane    8               13\n",
      "Name: count, dtype: int64\n"
     ]
    }
   ],
   "source": [
    "# Convert Categorical values to int\n",
    "# Crop Type Column\n",
    "\n",
    "data['crop_type_en'] = le.fit_transform(data['Crop Type'])\n",
    "print(data[['Crop Type', 'crop_type_en']].value_counts().sort_values())"
   ]
  },
  {
   "cell_type": "code",
   "execution_count": 8,
   "id": "30906d9c-03f5-4375-b69c-afa85b0c8b33",
   "metadata": {},
   "outputs": [
    {
     "name": "stdout",
     "output_type": "stream",
     "text": [
      "Fertilizer Name  fertilizer_name_en\n",
      "10-26-26         0                      7\n",
      "17-17-17         2                      7\n",
      "14-35-14         1                     14\n",
      "20-20            3                     14\n",
      "28-28            4                     17\n",
      "DAP              5                     18\n",
      "Urea             6                     22\n",
      "Name: count, dtype: int64\n"
     ]
    }
   ],
   "source": [
    "# Convert Categorical values to int\n",
    "# Fertilizer Name\n",
    "\n",
    "data['fertilizer_name_en']=le.fit_transform(data['Fertilizer Name'])\n",
    "print(data[['Fertilizer Name', 'fertilizer_name_en']].value_counts().sort_values())"
   ]
  },
  {
   "cell_type": "code",
   "execution_count": 9,
   "id": "94a752d2-53ce-45db-88d3-a48c1571452c",
   "metadata": {},
   "outputs": [
    {
     "data": {
      "text/html": [
       "<div>\n",
       "<style scoped>\n",
       "    .dataframe tbody tr th:only-of-type {\n",
       "        vertical-align: middle;\n",
       "    }\n",
       "\n",
       "    .dataframe tbody tr th {\n",
       "        vertical-align: top;\n",
       "    }\n",
       "\n",
       "    .dataframe thead th {\n",
       "        text-align: right;\n",
       "    }\n",
       "</style>\n",
       "<table border=\"1\" class=\"dataframe\">\n",
       "  <thead>\n",
       "    <tr style=\"text-align: right;\">\n",
       "      <th></th>\n",
       "      <th>Temparature</th>\n",
       "      <th>Humidity</th>\n",
       "      <th>Moisture</th>\n",
       "      <th>Soil Type</th>\n",
       "      <th>Crop Type</th>\n",
       "      <th>Nitrogen</th>\n",
       "      <th>Potassium</th>\n",
       "      <th>Phosphorous</th>\n",
       "      <th>Fertilizer Name</th>\n",
       "      <th>soil_type_enc</th>\n",
       "      <th>crop_type_en</th>\n",
       "      <th>fertilizer_name_en</th>\n",
       "    </tr>\n",
       "  </thead>\n",
       "  <tbody>\n",
       "    <tr>\n",
       "      <th>0</th>\n",
       "      <td>26</td>\n",
       "      <td>52</td>\n",
       "      <td>38</td>\n",
       "      <td>Sandy</td>\n",
       "      <td>Maize</td>\n",
       "      <td>37</td>\n",
       "      <td>0</td>\n",
       "      <td>0</td>\n",
       "      <td>Urea</td>\n",
       "      <td>4</td>\n",
       "      <td>3</td>\n",
       "      <td>6</td>\n",
       "    </tr>\n",
       "    <tr>\n",
       "      <th>1</th>\n",
       "      <td>29</td>\n",
       "      <td>52</td>\n",
       "      <td>45</td>\n",
       "      <td>Loamy</td>\n",
       "      <td>Sugarcane</td>\n",
       "      <td>12</td>\n",
       "      <td>0</td>\n",
       "      <td>36</td>\n",
       "      <td>DAP</td>\n",
       "      <td>2</td>\n",
       "      <td>8</td>\n",
       "      <td>5</td>\n",
       "    </tr>\n",
       "    <tr>\n",
       "      <th>2</th>\n",
       "      <td>34</td>\n",
       "      <td>65</td>\n",
       "      <td>62</td>\n",
       "      <td>Black</td>\n",
       "      <td>Cotton</td>\n",
       "      <td>7</td>\n",
       "      <td>9</td>\n",
       "      <td>30</td>\n",
       "      <td>14-35-14</td>\n",
       "      <td>0</td>\n",
       "      <td>1</td>\n",
       "      <td>1</td>\n",
       "    </tr>\n",
       "    <tr>\n",
       "      <th>3</th>\n",
       "      <td>32</td>\n",
       "      <td>62</td>\n",
       "      <td>34</td>\n",
       "      <td>Red</td>\n",
       "      <td>Tobacco</td>\n",
       "      <td>22</td>\n",
       "      <td>0</td>\n",
       "      <td>20</td>\n",
       "      <td>28-28</td>\n",
       "      <td>3</td>\n",
       "      <td>9</td>\n",
       "      <td>4</td>\n",
       "    </tr>\n",
       "    <tr>\n",
       "      <th>4</th>\n",
       "      <td>28</td>\n",
       "      <td>54</td>\n",
       "      <td>46</td>\n",
       "      <td>Clayey</td>\n",
       "      <td>Paddy</td>\n",
       "      <td>35</td>\n",
       "      <td>0</td>\n",
       "      <td>0</td>\n",
       "      <td>Urea</td>\n",
       "      <td>1</td>\n",
       "      <td>6</td>\n",
       "      <td>6</td>\n",
       "    </tr>\n",
       "  </tbody>\n",
       "</table>\n",
       "</div>"
      ],
      "text/plain": [
       "   Temparature  Humidity   Moisture Soil Type  Crop Type  Nitrogen  Potassium  \\\n",
       "0           26         52        38     Sandy      Maize        37          0   \n",
       "1           29         52        45     Loamy  Sugarcane        12          0   \n",
       "2           34         65        62     Black     Cotton         7          9   \n",
       "3           32         62        34       Red    Tobacco        22          0   \n",
       "4           28         54        46    Clayey      Paddy        35          0   \n",
       "\n",
       "   Phosphorous Fertilizer Name  soil_type_enc  crop_type_en  \\\n",
       "0            0            Urea              4             3   \n",
       "1           36             DAP              2             8   \n",
       "2           30        14-35-14              0             1   \n",
       "3           20           28-28              3             9   \n",
       "4            0            Urea              1             6   \n",
       "\n",
       "   fertilizer_name_en  \n",
       "0                   6  \n",
       "1                   5  \n",
       "2                   1  \n",
       "3                   4  \n",
       "4                   6  "
      ]
     },
     "execution_count": 9,
     "metadata": {},
     "output_type": "execute_result"
    }
   ],
   "source": [
    "data.head()"
   ]
  },
  {
   "cell_type": "code",
   "execution_count": 16,
   "id": "cf0d5ba8-ff77-42e8-b676-1bf4392f7158",
   "metadata": {},
   "outputs": [],
   "source": [
    "data.drop(['Soil Type', 'Crop Type', 'Fertilizer Name'], axis=1, inplace = True)"
   ]
  },
  {
   "cell_type": "code",
   "execution_count": 18,
   "id": "f0411f2d-90fa-49b8-a44f-595a6617f2ac",
   "metadata": {},
   "outputs": [],
   "source": [
    "X = data.drop('fertilizer_name_en', axis=1).values\n",
    "y = data['fertilizer_name_en'].values\n",
    "\n",
    "# Split out data to test and train dataset\n",
    "# We split our Data to avoid leakage and then standardize our data\n",
    "\n",
    "from sklearn.model_selection import train_test_split\n",
    "\n",
    "X_train, X_test, y_train, y_test = train_test_split(X, y, random_state=48, test_size=0.2)"
   ]
  },
  {
   "cell_type": "code",
   "execution_count": 20,
   "id": "242b954f-ad08-4a5b-8a23-5c3b4cdbe8a0",
   "metadata": {},
   "outputs": [
    {
     "data": {
      "text/plain": [
       "((99, 8), (99,))"
      ]
     },
     "execution_count": 20,
     "metadata": {},
     "output_type": "execute_result"
    }
   ],
   "source": [
    "X.shape, y.shape"
   ]
  },
  {
   "cell_type": "code",
   "execution_count": 22,
   "id": "aaafa81e-c831-4de0-98b2-2824659ceda2",
   "metadata": {},
   "outputs": [
    {
     "data": {
      "text/plain": [
       "((79, 8), (20, 8), (79,), (20,))"
      ]
     },
     "execution_count": 22,
     "metadata": {},
     "output_type": "execute_result"
    }
   ],
   "source": [
    "X_train.shape, X_test.shape , y_train.shape, y_test.shape"
   ]
  },
  {
   "cell_type": "code",
   "execution_count": 24,
   "id": "072517ee-408c-40c2-bfb1-5959ddb261f7",
   "metadata": {},
   "outputs": [],
   "source": [
    "# Standardize the data\n",
    "\n",
    "from sklearn.preprocessing import StandardScaler\n",
    "scaler = StandardScaler()\n",
    "\n",
    "X_train_scaled = scaler.fit_transform(X_train)\n",
    "X_test_scaled = scaler.transform(X_test)"
   ]
  },
  {
   "cell_type": "code",
   "execution_count": 28,
   "id": "88a0744d-e7bb-4754-a52f-230a2cc4f9a9",
   "metadata": {},
   "outputs": [],
   "source": [
    "# Importing Classification models and Evaluating them\n",
    "from sklearn.model_selection import cross_val_score, KFold, train_test_split\n",
    "from sklearn.neighbors import KNeighborsClassifier\n",
    "from sklearn.linear_model import LogisticRegression\n",
    "from sklearn.tree import DecisionTreeClassifier"
   ]
  },
  {
   "cell_type": "code",
   "execution_count": 32,
   "id": "c98a5a27-0c21-4695-8508-450217423d6c",
   "metadata": {},
   "outputs": [
    {
     "name": "stderr",
     "output_type": "stream",
     "text": [
      "C:\\Users\\Mohammed\\AppData\\Local\\Temp\\ipykernel_22812\\3028977896.py:7: MatplotlibDeprecationWarning: The 'labels' parameter of boxplot() has been renamed 'tick_labels' since Matplotlib 3.9; support for the old name will be dropped in 3.11.\n",
      "  plt.boxplot(results, labels=models.keys())\n"
     ]
    },
    {
     "data": {
      "image/png": "[encoded data removed]",
      "text/plain": [
       "<Figure size 640x480 with 1 Axes>"
      ]
     },
     "metadata": {},
     "output_type": "display_data"
    }
   ],
   "source": [
    "models = {\"Logistic Regression\": LogisticRegression(), \"KNN\": KNeighborsClassifier(), \"Decision Tree\": DecisionTreeClassifier()}\n",
    "results =[]\n",
    "for model in models.values():\n",
    "    kf = KFold(n_splits=6, random_state=42, shuffle=True)\n",
    "    cv_results = cross_val_score(model, X_train_scaled, y_train, cv=kf)\n",
    "    results.append(cv_results)\n",
    "plt.boxplot(results, labels=models.keys())\n",
    "plt.show()"
   ]
  },
  {
   "cell_type": "markdown",
   "id": "121bfddb-c18b-4d1f-b08e-57c6b4fd73d9",
   "metadata": {},
   "source": [
    "### Looking at the boxplot results, here's what we can conclude:\n",
    "\n",
    "- Logistic Regression\n",
    "\n",
    "Median accuracy is very high (around 0.9+).\n",
    "\n",
    "Slightly wider box (some variation between folds).\n",
    "\n",
    "Still very good and stable.\n",
    "\n",
    "- KNN\n",
    "\n",
    "Median accuracy is much lower (~0.65).\n",
    "\n",
    "Wider spread → performance varies a lot between folds (less consistent).\n",
    "\n",
    "- Decision Tree\n",
    "\n",
    "Accuracy is almost perfect (close to 1.0) for all folds.\n",
    "\n",
    "Extremely narrow box (little variation) → highly consistent."
   ]
  },
  {
   "cell_type": "code",
   "execution_count": 36,
   "id": "c1b254cc-d666-4d65-b4d2-bcb11d450975",
   "metadata": {},
   "outputs": [
    {
     "name": "stdout",
     "output_type": "stream",
     "text": [
      "Logistic Regression Test Set Accuracy : 0.85\n",
      "KNN Test Set Accuracy : 0.5\n",
      "Decision Tree Test Set Accuracy : 0.95\n"
     ]
    }
   ],
   "source": [
    "# Testset performance\n",
    "\n",
    "for name, model in models.items():\n",
    "    model.fit(X_train_scaled, y_train)\n",
    "    test_score = model.score(X_test_scaled, y_test)\n",
    "    print(\"{} Test Set Accuracy : {}\".format(name, test_score))"
   ]
  },
  {
   "cell_type": "markdown",
   "id": "dbb6e5db-bf1b-4004-bab6-e7741168ca15",
   "metadata": {},
   "source": [
    "## So we can say that ( Decision Tree ) model, performs better than other two models ."
   ]
  },
  {
   "cell_type": "code",
   "execution_count": null,
   "id": "21f62277-56d2-4289-adba-5f108bd7b4f7",
   "metadata": {},
   "outputs": [],
   "source": []
  }
 ],
 "metadata": {
  "kernelspec": {
   "display_name": "Python [conda env:base] *",
   "language": "python",
   "name": "conda-base-py"
  },
  "language_info": {
   "codemirror_mode": {
    "name": "ipython",
    "version": 3
   },
   "file_extension": ".py",
   "mimetype": "text/x-python",
   "name": "python",
   "nbconvert_exporter": "python",
   "pygments_lexer": "ipython3",
   "version": "3.12.7"
  }
 },
 "nbformat": 4,
 "nbformat_minor": 5
}
